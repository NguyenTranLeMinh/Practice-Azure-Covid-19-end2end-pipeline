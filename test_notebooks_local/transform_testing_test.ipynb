{
 "cells": [
  {
   "cell_type": "code",
   "execution_count": 10,
   "id": "1bd34507",
   "metadata": {},
   "outputs": [],
   "source": [
    "from pyspark.sql import SparkSession\n",
    "from pyspark.sql import functions as f\n",
    "from pyspark.sql.types import *"
   ]
  },
  {
   "cell_type": "code",
   "execution_count": 2,
   "id": "ef4047c5",
   "metadata": {},
   "outputs": [],
   "source": [
    "spark = SparkSession.builder \\\n",
    "    .appName('transform_testing') \\\n",
    "    .master('local[*]') \\\n",
    "    .getOrCreate()\n"
   ]
  },
  {
   "cell_type": "code",
   "execution_count": 9,
   "id": "02c769e9",
   "metadata": {},
   "outputs": [
    {
     "name": "stdout",
     "output_type": "stream",
     "text": [
      "root\n",
      " |-- country: string (nullable = true)\n",
      " |-- country_code: string (nullable = true)\n",
      " |-- year_week: string (nullable = true)\n",
      " |-- level: string (nullable = true)\n",
      " |-- region: string (nullable = true)\n",
      " |-- region_name: string (nullable = true)\n",
      " |-- new_cases: integer (nullable = true)\n",
      " |-- tests_done: integer (nullable = true)\n",
      " |-- population: double (nullable = true)\n",
      " |-- testing_rate: double (nullable = true)\n",
      " |-- positivity_rate: double (nullable = true)\n",
      " |-- testing_data_source: string (nullable = true)\n",
      "\n",
      "+-------+------------+---------+--------+------+-----------+---------+----------+----------+----------------+-----------------+-------------------+\n",
      "|country|country_code|year_week|   level|region|region_name|new_cases|tests_done|population|    testing_rate|  positivity_rate|testing_data_source|\n",
      "+-------+------------+---------+--------+------+-----------+---------+----------+----------+----------------+-----------------+-------------------+\n",
      "|Austria|          AT| 2020-W15|national|    AT|    Austria|     1838|     12339| 8932664.0|138.133484031192| 14.8958586595348| Manual webscraping|\n",
      "|Austria|          AT| 2020-W16|national|    AT|    Austria|      684|     58488| 8932664.0|654.765476458087| 1.16947066064834| Manual webscraping|\n",
      "|Austria|          AT| 2020-W17|national|    AT|    Austria|      448|     33443| 8932664.0|374.389991608327| 1.33959273988578| Manual webscraping|\n",
      "|Austria|          AT| 2020-W18|national|    AT|    Austria|      312|     26598| 8932664.0|297.761115832858| 1.17302052785924|    Country website|\n",
      "|Austria|          AT| 2020-W19|national|    AT|    Austria|      264|     42153| 8932664.0|471.897297379595|0.626289943776244|    Country website|\n",
      "|Austria|          AT| 2020-W20|national|    AT|    Austria|      335|     46001| 8932664.0|514.975151869588|0.728245038151345|    Country website|\n",
      "|Austria|          AT| 2020-W21|national|    AT|    Austria|      265|     39348| 8932664.0|440.495690871167|0.673477686286469|    Country website|\n",
      "|Austria|          AT| 2020-W22|national|    AT|    Austria|      195|     46677| 8932664.0|522.542883063776|0.417764637830195|    Country website|\n",
      "|Austria|          AT| 2020-W23|national|    AT|    Austria|      227|     41063| 8932664.0|459.694890572398|0.552809098214938|    Country website|\n",
      "|Austria|          AT| 2020-W24|national|    AT|    Austria|      172|     35243| 8932664.0|394.540755143147|0.488040178191414|    Country website|\n",
      "|Austria|          AT| 2020-W25|national|    AT|    Austria|      248|     15775| 8932664.0|176.599052645437| 1.57210776545166|    Country website|\n",
      "|Austria|          AT| 2020-W26|national|    AT|    Austria|      335|     61905| 8932664.0|693.018342568354|0.541151764800905|    Country website|\n",
      "|Austria|          AT| 2020-W27|national|    AT|    Austria|      640|     45284| 8932664.0|506.948431061551| 1.41330271177458|    Country website|\n",
      "|Austria|          AT| 2020-W28|national|    AT|    Austria|      596|     48936| 8932664.0|547.832091299975| 1.21791727971228|    Country website|\n",
      "|Austria|          AT| 2020-W29|national|    AT|    Austria|      784|     51929| 8932664.0|581.338333110929| 1.50975370217027|    Country website|\n",
      "|Austria|          AT| 2020-W30|national|    AT|    Austria|      872|     99229| 8932664.0|1110.85561933148|0.878775358010259|    Country website|\n",
      "|Austria|          AT| 2020-W31|national|    AT|    Austria|      794|     57416| 8932664.0|642.764577286239| 1.38288978681901|    Country website|\n",
      "|Austria|          AT| 2020-W32|national|    AT|    Austria|      722|     56554| 8932664.0|633.114600526786|  1.2766559394561|    Country website|\n",
      "|Austria|          AT| 2020-W33|national|    AT|    Austria|     1462|     56622| 8932664.0|633.875851593657| 2.58203525131574|    Country website|\n",
      "|Austria|          AT| 2020-W34|national|    AT|    Austria|     1907|     76497| 8932664.0|856.373865623962| 2.49290821862295|    Country website|\n",
      "+-------+------------+---------+--------+------+-----------+---------+----------+----------+----------------+-----------------+-------------------+\n",
      "only showing top 20 rows\n",
      "\n"
     ]
    }
   ],
   "source": [
    "df_testing = spark.read \\\n",
    "    .options(header=True, sep=',', inferSchema=True) \\\n",
    "    .csv('../new_ds/testing.csv')\n",
    "df_testing.printSchema()\n",
    "df_testing.show()"
   ]
  },
  {
   "cell_type": "code",
   "execution_count": 12,
   "id": "a8751399",
   "metadata": {},
   "outputs": [],
   "source": [
    "df_testing = df_testing.withColumn('population', f.col('population').cast(LongType()))"
   ]
  },
  {
   "cell_type": "code",
   "execution_count": 26,
   "id": "c39e573c",
   "metadata": {},
   "outputs": [
    {
     "name": "stdout",
     "output_type": "stream",
     "text": [
      "+-------+------------+---------+-----+------+-----------+---------+----------+----------+------------+---------------+-------------------+\n",
      "|country|country_code|year_week|level|region|region_name|new_cases|tests_done|population|testing_rate|positivity_rate|testing_data_source|\n",
      "+-------+------------+---------+-----+------+-----------+---------+----------+----------+------------+---------------+-------------------+\n",
      "+-------+------------+---------+-----+------+-----------+---------+----------+----------+------------+---------------+-------------------+\n",
      "\n"
     ]
    }
   ],
   "source": [
    "df_testing.where(f.col('new_cases') == '') \\\n",
    ".show()"
   ]
  },
  {
   "cell_type": "code",
   "execution_count": 6,
   "id": "d779dfad",
   "metadata": {},
   "outputs": [
    {
     "name": "stdout",
     "output_type": "stream",
     "text": [
      "root\n",
      " |-- date_key: integer (nullable = true)\n",
      " |-- date: date (nullable = true)\n",
      " |-- year: integer (nullable = true)\n",
      " |-- month: integer (nullable = true)\n",
      " |-- day: integer (nullable = true)\n",
      " |-- day_name: string (nullable = true)\n",
      " |-- day_of_year: integer (nullable = true)\n",
      " |-- week_of_month: integer (nullable = true)\n",
      " |-- week_of_year: integer (nullable = true)\n",
      " |-- month_name: string (nullable = true)\n",
      " |-- year_month: integer (nullable = true)\n",
      " |-- year_week: integer (nullable = true)\n",
      "\n",
      "+--------+----------+----+-----+---+---------+-----------+-------------+------------+----------+----------+---------+\n",
      "|date_key|      date|year|month|day| day_name|day_of_year|week_of_month|week_of_year|month_name|year_month|year_week|\n",
      "+--------+----------+----+-----+---+---------+-----------+-------------+------------+----------+----------+---------+\n",
      "|20200101|2020-01-01|2020|    1|  1|Wednesday|          1|            1|           1|   January|    202001|   202001|\n",
      "|20200102|2020-01-02|2020|    1|  2| Thursday|          2|            1|           1|   January|    202001|   202001|\n",
      "|20200103|2020-01-03|2020|    1|  3|   Friday|          3|            1|           1|   January|    202001|   202001|\n",
      "|20200104|2020-01-04|2020|    1|  4| Saturday|          4|            1|           1|   January|    202001|   202001|\n",
      "|20200105|2020-01-05|2020|    1|  5|   Sunday|          5|            2|           2|   January|    202001|   202002|\n",
      "|20200106|2020-01-06|2020|    1|  6|   Monday|          6|            2|           2|   January|    202001|   202002|\n",
      "|20200107|2020-01-07|2020|    1|  7|  Tuesday|          7|            2|           2|   January|    202001|   202002|\n",
      "|20200108|2020-01-08|2020|    1|  8|Wednesday|          8|            2|           2|   January|    202001|   202002|\n",
      "|20200109|2020-01-09|2020|    1|  9| Thursday|          9|            2|           2|   January|    202001|   202002|\n",
      "|20200110|2020-01-10|2020|    1| 10|   Friday|         10|            2|           2|   January|    202001|   202002|\n",
      "|20200111|2020-01-11|2020|    1| 11| Saturday|         11|            2|           2|   January|    202001|   202002|\n",
      "|20200112|2020-01-12|2020|    1| 12|   Sunday|         12|            3|           3|   January|    202001|   202003|\n",
      "|20200113|2020-01-13|2020|    1| 13|   Monday|         13|            3|           3|   January|    202001|   202003|\n",
      "|20200114|2020-01-14|2020|    1| 14|  Tuesday|         14|            3|           3|   January|    202001|   202003|\n",
      "|20200115|2020-01-15|2020|    1| 15|Wednesday|         15|            3|           3|   January|    202001|   202003|\n",
      "|20200116|2020-01-16|2020|    1| 16| Thursday|         16|            3|           3|   January|    202001|   202003|\n",
      "|20200117|2020-01-17|2020|    1| 17|   Friday|         17|            3|           3|   January|    202001|   202003|\n",
      "|20200118|2020-01-18|2020|    1| 18| Saturday|         18|            3|           3|   January|    202001|   202003|\n",
      "|20200119|2020-01-19|2020|    1| 19|   Sunday|         19|            4|           4|   January|    202001|   202004|\n",
      "|20200120|2020-01-20|2020|    1| 20|   Monday|         20|            4|           4|   January|    202001|   202004|\n",
      "+--------+----------+----+-----+---+---------+-----------+-------------+------------+----------+----------+---------+\n",
      "only showing top 20 rows\n",
      "\n"
     ]
    }
   ],
   "source": [
    "df_dim_date = spark.read \\\n",
    "    .options(header=True, sep=',', inferSchema=True) \\\n",
    "    .csv('../dim_date/dim_date.csv')\n",
    "df_dim_date = df_dim_date.withColumn('date', f.expr(\"cast(date as DATE)\"))\n",
    "df_dim_date.printSchema()\n",
    "df_dim_date.show()"
   ]
  },
  {
   "cell_type": "code",
   "execution_count": 7,
   "id": "bdebde89",
   "metadata": {},
   "outputs": [
    {
     "name": "stdout",
     "output_type": "stream",
     "text": [
      "root\n",
      " |-- country: string (nullable = true)\n",
      " |-- country_code_2_digit: string (nullable = true)\n",
      " |-- country_code_3_digit: string (nullable = true)\n",
      " |-- continent: string (nullable = true)\n",
      " |-- population: integer (nullable = true)\n",
      "\n",
      "+--------------------+--------------------+--------------------+---------+----------+\n",
      "|             country|country_code_2_digit|country_code_3_digit|continent|population|\n",
      "+--------------------+--------------------+--------------------+---------+----------+\n",
      "|               Aruba|                  AW|                 ABW|  America|    106766|\n",
      "|         Afghanistan|                  AF|                 AFG|     Asia|  38928341|\n",
      "|              Angola|                  AO|                 AGO|   Africa|  32866268|\n",
      "|            Anguilla|                  AI|                 AIA|  America|     15002|\n",
      "|             Albania|                  AL|                 ALB|   Europe|   2862427|\n",
      "|             Andorra|                  AD|                 AND|   Europe|     76177|\n",
      "|United Arab Emirates|                  AE|                 ARE|     Asia|   9890400|\n",
      "|           Argentina|                  AR|                 ARG|  America|  45195777|\n",
      "|             Armenia|                  AM|                 ARM|   Europe|   2963234|\n",
      "| Antigua and Barbuda|                  AG|                 ATG|  America|     97928|\n",
      "|           Australia|                  AU|                 AUS|  Oceania|  25499881|\n",
      "|             Austria|                  AT|                 AUT|   Europe|   8858775|\n",
      "|          Azerbaijan|                  AZ|                 AZE|   Europe|  10139175|\n",
      "|             Burundi|                  BI|                 BDI|   Africa|  11890781|\n",
      "|             Belgium|                  BE|                 BEL|   Europe|  11455519|\n",
      "|               Benin|                  BJ|                 BEN|   Africa|  12123198|\n",
      "|Bonaire, Saint Eu...|                  BQ|                 BES|  America|     26221|\n",
      "|        Burkina Faso|                  BF|                 BFA|   Africa|  20903278|\n",
      "|          Bangladesh|                  BD|                 BGD|     Asia| 164689383|\n",
      "|            Bulgaria|                  BG|                 BGR|   Europe|   7000039|\n",
      "+--------------------+--------------------+--------------------+---------+----------+\n",
      "only showing top 20 rows\n",
      "\n"
     ]
    }
   ],
   "source": [
    "df_dim_country = spark.read \\\n",
    "    .options(header=True, sep=',', inferSchema=True) \\\n",
    "    .csv('../dim_country/country_lookup.csv')\n",
    "df_dim_country.printSchema()\n",
    "df_dim_country.show()"
   ]
  },
  {
   "cell_type": "code",
   "execution_count": 13,
   "id": "b1a60bcb",
   "metadata": {},
   "outputs": [],
   "source": [
    "df_testing.createOrReplaceTempView('testing')\n",
    "df_dim_date.createOrReplaceTempView('dim_date')\n",
    "df_dim_country.createOrReplaceTempView('dim_country')"
   ]
  },
  {
   "cell_type": "code",
   "execution_count": 14,
   "id": "a66734e4",
   "metadata": {},
   "outputs": [
    {
     "name": "stdout",
     "output_type": "stream",
     "text": [
      "+-------+--------------------+--------------------+---------+---------------+-------------+---------+----------+----------+----------------+-----------------+-------------------+\n",
      "|country|country_code_2_digit|country_code_3_digit|year_week|week_start_date|week_end_date|new_cases|tests_done|population|    testing_rate|  positivity_rate|testing_data_source|\n",
      "+-------+--------------------+--------------------+---------+---------------+-------------+---------+----------+----------+----------------+-----------------+-------------------+\n",
      "|Austria|                  AT|                 AUT| 2022-W17|     2022-04-17|   2022-04-23|    40387|   1403772|   8932664|15715.0431271119| 2.87703416224287|              TESSy|\n",
      "|Austria|                  AT|                 AUT| 2022-W26|     2022-06-19|   2022-06-25|     2917|     12502|    394297|3170.70634572416|  23.332266837306|              TESSy|\n",
      "|Belgium|                  BE|                 BEL| 2021-W41|     2021-10-03|   2021-10-09|    22871|    352016|  11566041| 3043.5306255615| 6.49714785691559|              TESSy|\n",
      "|Croatia|                  HR|                 HRV| 2021-W13|     2021-03-21|   2021-03-27|     5968|     24311|    196295|  12384.87676401| 24.5485582658056|              TESSy|\n",
      "|Croatia|                  HR|                 HRV| 2021-W24|     2021-06-06|   2021-06-12|       93|     10246|    806341|1270.67828623374|0.907671286355651|              TESSy|\n",
      "| Cyprus|                  CY|                 CYP| 2020-W36|     2020-08-30|   2020-09-05|       22|     16347|    896007|1824.42771094422|0.134581268734324|              Other|\n",
      "| Cyprus|                  CY|                 CYP| 2021-W39|     2021-09-19|   2021-09-25|      634|    325917|    896007|36374.3810037198|0.194528054688771|              TESSy|\n",
      "|Czechia|                  CZ|                 CZE| 2021-W22|     2021-05-23|   2021-05-29|     2360|   1294763|  10701777|12098.5795162803|0.182272740262118|              TESSy|\n",
      "|Denmark|                  DK|                 DNK| 2020-W43|     2020-10-18|   2020-10-24|     4964|    333813|   5840045|5715.93198340081| 1.48706012048662|              TESSy|\n",
      "|Denmark|                  DK|                 DNK| 2021-W15|     2021-04-04|   2021-04-10|     4841|   2795519|   5840045| 47868.107180681|0.173169990974842|              TESSy|\n",
      "|Denmark|                  DK|                 DNK| 2022-W23|     2022-05-29|   2022-06-04|      414|      3391|    589755|574.984527473273|  12.208787968151|              TESSy|\n",
      "|Denmark|                  DK|                 DNK| 2022-W27|     2022-06-26|   2022-07-02|     1395|      6606|    589755|1120.12615408093| 21.1171662125341|              TESSy|\n",
      "|Estonia|                  EE|                 EST| 2020-W37|     2020-09-06|   2020-09-12|      160|     12443|   1330068| 935.51607887717| 1.28586353773206|              TESSy|\n",
      "|Estonia|                  EE|                 EST| 2020-W51|     2020-12-13|   2020-12-19|     3696|     37056|   1330068|2786.02297025415| 9.97409326424871|              TESSy|\n",
      "|Finland|                  FI|                 FIN| 2021-W06|     2021-01-31|   2021-02-06|      158|     22627|    183519|12329.4655770731|0.698280814955584|              TESSy|\n",
      "|Finland|                  FI|                 FIN| 2021-W51|     2021-12-12|   2021-12-18|      581|     32069|    183519|17474.4169174507| 1.81171848202314|              TESSy|\n",
      "| France|                  FR|                 FRA| 2022-W24|     2022-06-05|   2022-06-11|   310743|   1323842|  67656682|1956.70547367369| 23.4728162424217|              TESSy|\n",
      "| France|                  FR|                 FRA| 2022-W26|     2022-06-19|   2022-06-25|   154120|    578574|  12174880|4752.19468282234| 26.6379063006634|              TESSy|\n",
      "| France|                  FR|                 FRA| 2021-W35|     2021-08-22|   2021-08-28|     6405|    290373|   5549586|5232.33624994729| 2.20578359558223|              TESSy|\n",
      "| France|                  FR|                 FRA| 2021-W49|     2021-11-28|   2021-12-04|    34198|    471900|   5845102|8073.42626356221| 7.24687433778343|              TESSy|\n",
      "+-------+--------------------+--------------------+---------+---------------+-------------+---------+----------+----------+----------------+-----------------+-------------------+\n",
      "only showing top 20 rows\n",
      "\n"
     ]
    }
   ],
   "source": [
    "df_proccessed_testing = spark.sql(\"\"\"\n",
    "SELECT t.country  ,\n",
    "      c.country_code_2_digit   ,\n",
    "      c.country_code_3_digit   ,\n",
    "      t.year_week   ,\n",
    "      MIN(d.date) AS week_start_date, \n",
    "      MAX(d.date) AS week_end_date ,\n",
    "      t.new_cases   ,\n",
    "      t.tests_done  ,\n",
    "      t.population  , \n",
    "      t.testing_rate   ,\n",
    "      t.positivity_rate   ,\n",
    "      t.testing_data_source  \n",
    "FROM testing t JOIN dim_date d ON t.year_week = concat(concat(d.year, '-W'), LPAD(d.week_of_year, 2, '0'))\n",
    "    JOIN dim_country c ON t.country_code = c.country_code_2_digit\n",
    "GROUP BY t.country  ,\n",
    "      c.country_code_2_digit   ,\n",
    "      c.country_code_3_digit   ,\n",
    "      t.year_week   ,\n",
    "      t.new_cases   ,\n",
    "      t.tests_done  ,\n",
    "      t.population  , \n",
    "      t.testing_rate   ,\n",
    "      t.positivity_rate   ,\n",
    "      t.testing_data_source  ;\n",
    "\"\"\")\n",
    "df_proccessed_testing.show()"
   ]
  },
  {
   "cell_type": "code",
   "execution_count": 49,
   "id": "a61be6d4",
   "metadata": {},
   "outputs": [
    {
     "name": "stdout",
     "output_type": "stream",
     "text": [
      "['country', 'country_code_2_digit', 'country_code_3_digit', 'year_week', 'new_cases', 'tests_done', 'population', 'testing_rate', 'positivity_rate', 'testing_data_source']\n"
     ]
    }
   ],
   "source": [
    "# Check null and nan\n",
    "cols = list(df_proccessed_testing.columns)\n",
    "cols.remove('week_start_date')\n",
    "cols.remove('week_end_date')\n",
    "print(cols)"
   ]
  },
  {
   "cell_type": "code",
   "execution_count": 55,
   "id": "7fb9ceed",
   "metadata": {},
   "outputs": [
    {
     "name": "stdout",
     "output_type": "stream",
     "text": [
      "root\n",
      " |-- country: string (nullable = true)\n",
      " |-- country_code_2_digit: string (nullable = true)\n",
      " |-- country_code_3_digit: string (nullable = true)\n",
      " |-- year_week: string (nullable = true)\n",
      " |-- week_start_date: date (nullable = true)\n",
      " |-- week_end_date: date (nullable = true)\n",
      " |-- new_cases: integer (nullable = true)\n",
      " |-- tests_done: integer (nullable = true)\n",
      " |-- population: long (nullable = true)\n",
      " |-- testing_rate: double (nullable = true)\n",
      " |-- positivity_rate: double (nullable = true)\n",
      " |-- testing_data_source: string (nullable = true)\n",
      "\n",
      "+-------+--------------------+--------------------+---------+---------+----------+----------+------------+---------------+-------------------+\n",
      "|country|country_code_2_digit|country_code_3_digit|year_week|new_cases|tests_done|population|testing_rate|positivity_rate|testing_data_source|\n",
      "+-------+--------------------+--------------------+---------+---------+----------+----------+------------+---------------+-------------------+\n",
      "|      0|                   0|                   0|        0|        0|         0|         0|           0|              0|                  0|\n",
      "+-------+--------------------+--------------------+---------+---------+----------+----------+------------+---------------+-------------------+\n",
      "\n",
      "+-------+--------------------+--------------------+---------+---------+----------+----------+------------+---------------+-------------------+\n",
      "|country|country_code_2_digit|country_code_3_digit|year_week|new_cases|tests_done|population|testing_rate|positivity_rate|testing_data_source|\n",
      "+-------+--------------------+--------------------+---------+---------+----------+----------+------------+---------------+-------------------+\n",
      "|      0|                   0|                   0|        0|        2|         0|         0|           0|             21|                  0|\n",
      "+-------+--------------------+--------------------+---------+---------+----------+----------+------------+---------------+-------------------+\n",
      "\n"
     ]
    }
   ],
   "source": [
    "df_proccessed_testing.printSchema()\n",
    "\n",
    "df_proccessed_testing.select([f.count(f.when(f.isnan(c), c)).alias(c) for c in cols]).show()\n",
    "\n",
    "df_proccessed_testing.select([f.count(f.when(f.col(c).isNull(), c)).alias(c) for c in cols]).show()"
   ]
  },
  {
   "cell_type": "code",
   "execution_count": 57,
   "id": "4c8e7ba9",
   "metadata": {},
   "outputs": [],
   "source": [
    "df_proccessed_testing = df_proccessed_testing.fillna(0, ['new_cases', 'positivity_rate'])"
   ]
  },
  {
   "cell_type": "code",
   "execution_count": 58,
   "id": "92c15cfb",
   "metadata": {},
   "outputs": [
    {
     "name": "stdout",
     "output_type": "stream",
     "text": [
      "+-------+--------------------+--------------------+---------+---------+----------+----------+------------+---------------+-------------------+\n",
      "|country|country_code_2_digit|country_code_3_digit|year_week|new_cases|tests_done|population|testing_rate|positivity_rate|testing_data_source|\n",
      "+-------+--------------------+--------------------+---------+---------+----------+----------+------------+---------------+-------------------+\n",
      "|      0|                   0|                   0|        0|        0|         0|         0|           0|              0|                  0|\n",
      "+-------+--------------------+--------------------+---------+---------+----------+----------+------------+---------------+-------------------+\n",
      "\n",
      "+-------+--------------------+--------------------+---------+---------+----------+----------+------------+---------------+-------------------+\n",
      "|country|country_code_2_digit|country_code_3_digit|year_week|new_cases|tests_done|population|testing_rate|positivity_rate|testing_data_source|\n",
      "+-------+--------------------+--------------------+---------+---------+----------+----------+------------+---------------+-------------------+\n",
      "|      0|                   0|                   0|        0|        0|         0|         0|           0|              0|                  0|\n",
      "+-------+--------------------+--------------------+---------+---------+----------+----------+------------+---------------+-------------------+\n",
      "\n"
     ]
    }
   ],
   "source": [
    "df_proccessed_testing.select([f.count(f.when(f.isnan(c), c)).alias(c) for c in cols]).show()\n",
    "\n",
    "df_proccessed_testing.select([f.count(f.when(f.col(c).isNull(), c)).alias(c) for c in cols]).show()"
   ]
  }
 ],
 "metadata": {
  "kernelspec": {
   "display_name": "Python 3 (ipykernel)",
   "language": "python",
   "name": "python3"
  },
  "language_info": {
   "codemirror_mode": {
    "name": "ipython",
    "version": 3
   },
   "file_extension": ".py",
   "mimetype": "text/x-python",
   "name": "python",
   "nbconvert_exporter": "python",
   "pygments_lexer": "ipython3",
   "version": "3.7.11"
  }
 },
 "nbformat": 4,
 "nbformat_minor": 5
}
