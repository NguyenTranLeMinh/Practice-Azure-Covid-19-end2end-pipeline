{
 "cells": [
  {
   "cell_type": "code",
   "execution_count": 1,
   "id": "1bd34507",
   "metadata": {},
   "outputs": [],
   "source": [
    "from pyspark.sql import SparkSession\n",
    "from pyspark.sql import functions as f"
   ]
  },
  {
   "cell_type": "code",
   "execution_count": 2,
   "id": "ef4047c5",
   "metadata": {},
   "outputs": [],
   "source": [
    "spark = SparkSession.builder \\\n",
    "    .appName('transform_testing') \\\n",
    "    .master('local[*]') \\\n",
    "    .getOrCreate()\n"
   ]
  },
  {
   "cell_type": "code",
   "execution_count": 3,
   "id": "02c769e9",
   "metadata": {},
   "outputs": [
    {
     "name": "stdout",
     "output_type": "stream",
     "text": [
      "+-------+------------+---------+---------+----------+----------+----------------+-----------------+-------------------+\n",
      "|country|country_code|year_week|new_cases|tests_done|population|    testing_rate|  positivity_rate|testing_data_source|\n",
      "+-------+------------+---------+---------+----------+----------+----------------+-----------------+-------------------+\n",
      "|Austria|          AT| 2020-W15|     2041|     12339|   8858775|139.285623576623| 16.5410487073507| Manual webscraping|\n",
      "|Austria|          AT| 2020-W16|      855|     58488|   8858775|660.226724349586| 1.46183832581042| Manual webscraping|\n",
      "|Austria|          AT| 2020-W17|      472|     33443|   8858775|377.512692217603| 1.41135663666537| Manual webscraping|\n",
      "|Austria|          AT| 2020-W18|      336|     26598|   8858775|300.244672655079|  1.2632528761561|    Country website|\n",
      "|Austria|          AT| 2020-W19|      307|     42153|   8858775|475.833283947273|0.728299290679193|    Country website|\n",
      "|Austria|          AT| 2020-W20|      363|     46001|   8858775| 519.27044089053|0.789113280146084|    Country website|\n",
      "|Austria|          AT| 2020-W21|      267|     39348|   8858775|444.169763878189|0.678560536749009|    Country website|\n",
      "|Austria|          AT| 2020-W22|      231|     46677|   8858775|526.901292785966|0.494890417121923|    Country website|\n",
      "|Austria|          AT| 2020-W23|      184|     41063|   8858775|463.529099678003|0.448091956262329|    Country website|\n",
      "|Austria|          AT| 2020-W24|      192|     35243|   8858775|397.831528625572|0.544789036120648|    Country website|\n",
      "|Austria|          AT| 2020-W25|      233|     15775|   8858775|178.072024630945|  1.4770206022187|    Country website|\n",
      "|Austria|          AT| 2020-W26|      315|     61905|   8858775|698.798648797379|0.508844196753089|    Country website|\n",
      "|Austria|          AT| 2020-W27|      634|     45284|   8858775|511.176771054689| 1.40005299885169|    Country website|\n",
      "|Austria|          AT| 2020-W28|      599|     48936|   8858775|552.401432477967| 1.22404773581821|    Country website|\n",
      "|Austria|          AT| 2020-W29|      713|     51929|   8858775|586.187142127439| 1.37302855822373|    Country website|\n",
      "|Austria|          AT| 2020-W30|      841|     99229|   8858775|1120.12100995905|0.847534490925032|    Country website|\n",
      "|Austria|          AT| 2020-W31|      875|     57416|   8858775|648.125728444396| 1.52396544517208|    Country website|\n",
      "|Austria|          AT| 2020-W32|      711|     56554|   8858775|638.395263453469| 1.25720550270538|    Country website|\n",
      "|Austria|          AT| 2020-W33|     1276|     56622|   8858775|639.162863939992| 2.25354102645615|    Country website|\n",
      "|Austria|          AT| 2020-W34|     1888|     76497|   8858775|863.516682611309|  2.4680706432932|    Country website|\n",
      "+-------+------------+---------+---------+----------+----------+----------------+-----------------+-------------------+\n",
      "only showing top 20 rows\n",
      "\n"
     ]
    }
   ],
   "source": [
    "df_testing = spark.read \\\n",
    "    .options(header=True, sep=',', inferSchema=True) \\\n",
    "    .csv('testing.csv')\n",
    "df_testing.show()"
   ]
  },
  {
   "cell_type": "code",
   "execution_count": 4,
   "id": "a8751399",
   "metadata": {},
   "outputs": [
    {
     "name": "stdout",
     "output_type": "stream",
     "text": [
      "root\n",
      " |-- country: string (nullable = true)\n",
      " |-- country_code: string (nullable = true)\n",
      " |-- year_week: string (nullable = true)\n",
      " |-- new_cases: integer (nullable = true)\n",
      " |-- tests_done: integer (nullable = true)\n",
      " |-- population: integer (nullable = true)\n",
      " |-- testing_rate: double (nullable = true)\n",
      " |-- positivity_rate: double (nullable = true)\n",
      " |-- testing_data_source: string (nullable = true)\n",
      "\n"
     ]
    }
   ],
   "source": [
    "df_testing.printSchema()"
   ]
  },
  {
   "cell_type": "code",
   "execution_count": 12,
   "id": "d779dfad",
   "metadata": {},
   "outputs": [
    {
     "name": "stdout",
     "output_type": "stream",
     "text": [
      "root\n",
      " |-- date_key: integer (nullable = true)\n",
      " |-- date: date (nullable = true)\n",
      " |-- year: integer (nullable = true)\n",
      " |-- month: integer (nullable = true)\n",
      " |-- day: integer (nullable = true)\n",
      " |-- day_name: string (nullable = true)\n",
      " |-- day_of_year: integer (nullable = true)\n",
      " |-- week_of_month: integer (nullable = true)\n",
      " |-- week_of_year: integer (nullable = true)\n",
      " |-- month_name: string (nullable = true)\n",
      " |-- year_month: integer (nullable = true)\n",
      " |-- year_week: integer (nullable = true)\n",
      "\n",
      "+--------+----------+----+-----+---+---------+-----------+-------------+------------+----------+----------+---------+\n",
      "|date_key|      date|year|month|day| day_name|day_of_year|week_of_month|week_of_year|month_name|year_month|year_week|\n",
      "+--------+----------+----+-----+---+---------+-----------+-------------+------------+----------+----------+---------+\n",
      "|20200101|2020-01-01|2020|    1|  1|Wednesday|          1|            1|           1|   January|    202001|   202001|\n",
      "|20200102|2020-01-02|2020|    1|  2| Thursday|          2|            1|           1|   January|    202001|   202001|\n",
      "|20200103|2020-01-03|2020|    1|  3|   Friday|          3|            1|           1|   January|    202001|   202001|\n",
      "|20200104|2020-01-04|2020|    1|  4| Saturday|          4|            1|           1|   January|    202001|   202001|\n",
      "|20200105|2020-01-05|2020|    1|  5|   Sunday|          5|            2|           2|   January|    202001|   202002|\n",
      "|20200106|2020-01-06|2020|    1|  6|   Monday|          6|            2|           2|   January|    202001|   202002|\n",
      "|20200107|2020-01-07|2020|    1|  7|  Tuesday|          7|            2|           2|   January|    202001|   202002|\n",
      "|20200108|2020-01-08|2020|    1|  8|Wednesday|          8|            2|           2|   January|    202001|   202002|\n",
      "|20200109|2020-01-09|2020|    1|  9| Thursday|          9|            2|           2|   January|    202001|   202002|\n",
      "|20200110|2020-01-10|2020|    1| 10|   Friday|         10|            2|           2|   January|    202001|   202002|\n",
      "|20200111|2020-01-11|2020|    1| 11| Saturday|         11|            2|           2|   January|    202001|   202002|\n",
      "|20200112|2020-01-12|2020|    1| 12|   Sunday|         12|            3|           3|   January|    202001|   202003|\n",
      "|20200113|2020-01-13|2020|    1| 13|   Monday|         13|            3|           3|   January|    202001|   202003|\n",
      "|20200114|2020-01-14|2020|    1| 14|  Tuesday|         14|            3|           3|   January|    202001|   202003|\n",
      "|20200115|2020-01-15|2020|    1| 15|Wednesday|         15|            3|           3|   January|    202001|   202003|\n",
      "|20200116|2020-01-16|2020|    1| 16| Thursday|         16|            3|           3|   January|    202001|   202003|\n",
      "|20200117|2020-01-17|2020|    1| 17|   Friday|         17|            3|           3|   January|    202001|   202003|\n",
      "|20200118|2020-01-18|2020|    1| 18| Saturday|         18|            3|           3|   January|    202001|   202003|\n",
      "|20200119|2020-01-19|2020|    1| 19|   Sunday|         19|            4|           4|   January|    202001|   202004|\n",
      "|20200120|2020-01-20|2020|    1| 20|   Monday|         20|            4|           4|   January|    202001|   202004|\n",
      "+--------+----------+----+-----+---+---------+-----------+-------------+------------+----------+----------+---------+\n",
      "only showing top 20 rows\n",
      "\n"
     ]
    }
   ],
   "source": [
    "df_dim_date = spark.read \\\n",
    "    .options(header=True, sep=',', inferSchema=True) \\\n",
    "    .csv('dim_date.csv')\n",
    "df_dim_date = df_dim_date.withColumn('date', f.expr(\"cast(date as DATE)\"))\n",
    "df_dim_date.printSchema()\n",
    "df_dim_date.show()"
   ]
  },
  {
   "cell_type": "code",
   "execution_count": 6,
   "id": "bdebde89",
   "metadata": {},
   "outputs": [
    {
     "name": "stdout",
     "output_type": "stream",
     "text": [
      "root\n",
      " |-- country: string (nullable = true)\n",
      " |-- country_code_2_digit: string (nullable = true)\n",
      " |-- country_code_3_digit: string (nullable = true)\n",
      " |-- continent: string (nullable = true)\n",
      " |-- population: integer (nullable = true)\n",
      "\n",
      "+--------------------+--------------------+--------------------+---------+----------+\n",
      "|             country|country_code_2_digit|country_code_3_digit|continent|population|\n",
      "+--------------------+--------------------+--------------------+---------+----------+\n",
      "|               Aruba|                  AW|                 ABW|  America|    106766|\n",
      "|         Afghanistan|                  AF|                 AFG|     Asia|  38928341|\n",
      "|              Angola|                  AO|                 AGO|   Africa|  32866268|\n",
      "|            Anguilla|                  AI|                 AIA|  America|     15002|\n",
      "|             Albania|                  AL|                 ALB|   Europe|   2862427|\n",
      "|             Andorra|                  AD|                 AND|   Europe|     76177|\n",
      "|United Arab Emirates|                  AE|                 ARE|     Asia|   9890400|\n",
      "|           Argentina|                  AR|                 ARG|  America|  45195777|\n",
      "|             Armenia|                  AM|                 ARM|   Europe|   2963234|\n",
      "| Antigua and Barbuda|                  AG|                 ATG|  America|     97928|\n",
      "|           Australia|                  AU|                 AUS|  Oceania|  25499881|\n",
      "|             Austria|                  AT|                 AUT|   Europe|   8858775|\n",
      "|          Azerbaijan|                  AZ|                 AZE|   Europe|  10139175|\n",
      "|             Burundi|                  BI|                 BDI|   Africa|  11890781|\n",
      "|             Belgium|                  BE|                 BEL|   Europe|  11455519|\n",
      "|               Benin|                  BJ|                 BEN|   Africa|  12123198|\n",
      "|Bonaire, Saint Eu...|                  BQ|                 BES|  America|     26221|\n",
      "|        Burkina Faso|                  BF|                 BFA|   Africa|  20903278|\n",
      "|          Bangladesh|                  BD|                 BGD|     Asia| 164689383|\n",
      "|            Bulgaria|                  BG|                 BGR|   Europe|   7000039|\n",
      "+--------------------+--------------------+--------------------+---------+----------+\n",
      "only showing top 20 rows\n",
      "\n"
     ]
    }
   ],
   "source": [
    "df_dim_country = spark.read \\\n",
    "    .options(header=True, sep=',', inferSchema=True) \\\n",
    "    .csv('country_lookup.csv')\n",
    "df_dim_country.printSchema()\n",
    "df_dim_country.show()"
   ]
  },
  {
   "cell_type": "code",
   "execution_count": 13,
   "id": "b1a60bcb",
   "metadata": {},
   "outputs": [],
   "source": [
    "df_testing.createOrReplaceTempView('testing')\n",
    "df_dim_date.createOrReplaceTempView('dim_date')\n",
    "df_dim_country.createOrReplaceTempView('dim_country')"
   ]
  },
  {
   "cell_type": "code",
   "execution_count": 14,
   "id": "a66734e4",
   "metadata": {},
   "outputs": [
    {
     "name": "stdout",
     "output_type": "stream",
     "text": [
      "+--------------+--------------------+--------------------+---------+---------------+-------------+---------+----------+----------+-----------------+-----------------+-------------------+\n",
      "|       country|country_code_2_digit|country_code_3_digit|year_week|week_start_date|week_end_date|new_cases|tests_done|population|     testing_rate|  positivity_rate|testing_data_source|\n",
      "+--------------+--------------------+--------------------+---------+---------------+-------------+---------+----------+----------+-----------------+-----------------+-------------------+\n",
      "|       Finland|                  FI|                 FIN| 2020-W36|     2020-08-30|   2020-09-05|      212|    102435|   5517919| 1856.40637348972|0.206960511543906|        Country API|\n",
      "|       Ireland|                  IE|                 IRL| 2020-W42|     2020-10-11|   2020-10-17|     6964|    112134|   4904240| 2286.47048268437| 6.21042681077996|              TESSy|\n",
      "|        Poland|                  PL|                 POL| 2020-W13|     2020-03-22|   2020-03-28|     1102|     26137|  37972812| 68.8308255917418| 4.21624516968283|              TESSy|\n",
      "|      Portugal|                  PT|                 PRT| 2020-W31|     2020-07-26|   2020-08-01|     1355|     95421|  10276617| 928.525408702105| 1.42002284612402|              TESSy|\n",
      "|        Sweden|                  SE|                 SWE| 2020-W09|     2020-02-23|   2020-02-29|       13|       752|  10230185| 7.35079570897301| 1.72872340425532|             Survey|\n",
      "|United Kingdom|                  UK|                 GBR| 2020-W19|     2020-05-03|   2020-05-09|    23939|    526221|  66647112| 789.563094646922| 4.54922931619985|    Country website|\n",
      "|       Estonia|                  EE|                 EST| 2020-W06|     2020-02-02|   2020-02-08|        0|         2|   1324820|0.150963904530427|              0.0|        Country API|\n",
      "|       Estonia|                  EE|                 EST| 2020-W10|     2020-03-01|   2020-03-07|        9|       242|   1324820| 18.2666324481816| 3.71900826446281|        Country API|\n",
      "|        France|                  FR|                 FRA| 2020-W09|     2020-02-23|   2020-02-29|       88|      3318|  67012883| 4.95128675481698| 2.65220012055455|              TESSy|\n",
      "|       Germany|                  DE|                 DEU| 2020-W32|     2020-08-02|   2020-08-08|     5998|    716768|  83019213| 863.376047662606|0.836811911246038|              TESSy|\n",
      "|        Greece|                  EL|                 GRC| 2020-W34|     2020-08-16|   2020-08-22|     1523|     82050|  10724599| 765.063570209012| 1.85618525289458|              TESSy|\n",
      "|       Romania|                  RO|                 ROU| 2020-W35|     2020-08-23|   2020-08-29|     8289|    123488|  19414458| 636.062052311736| 6.71239310702255|              TESSy|\n",
      "|       Austria|                  AT|                 AUT| 2020-W30|     2020-07-19|   2020-07-25|      841|     99229|   8858775| 1120.12100995905|0.847534490925032|    Country website|\n",
      "|       Denmark|                  DK|                 DNK| 2020-W33|     2020-08-09|   2020-08-15|     1041|    216381|   5806081| 3726.79953999953| 0.48109584482926|    Country website|\n",
      "|       Finland|                  FI|                 FIN| 2020-W25|     2020-06-14|   2020-06-20|       55|     12563|   5517919| 227.676412067665|0.437793520655894|        Country API|\n",
      "|        France|                  FR|                 FRA| 2020-W22|     2020-05-24|   2020-05-30|     6690|    259730|  67012883| 387.582190725924| 2.57575174219382|              TESSy|\n",
      "|       Ireland|                  IE|                 IRL| 2020-W11|     2020-03-08|   2020-03-14|      110|      3206|   4904240|  65.372004632726| 3.43106674984404|              TESSy|\n",
      "|      Slovakia|                  SK|                 SVK| 2020-W28|     2020-07-05|   2020-07-11|      144|     11672|   5450421| 214.148595126872| 1.23372172721042|    Country website|\n",
      "|        Sweden|                  SE|                 SWE| 2020-W16|     2020-04-12|   2020-04-18|     3827|     18574|  10230185| 181.560744013916| 20.6040702056638|             Survey|\n",
      "|       Austria|                  AT|                 AUT| 2020-W23|     2020-05-31|   2020-06-06|      184|     41063|   8858775| 463.529099678003|0.448091956262329|    Country website|\n",
      "+--------------+--------------------+--------------------+---------+---------------+-------------+---------+----------+----------+-----------------+-----------------+-------------------+\n",
      "only showing top 20 rows\n",
      "\n"
     ]
    }
   ],
   "source": [
    "df_proccessed_testing = spark.sql(\"\"\"\n",
    "SELECT t.country  ,\n",
    "      c.country_code_2_digit   ,\n",
    "      c.country_code_3_digit   ,\n",
    "      t.year_week   ,\n",
    "      MIN(d.date) AS week_start_date, \n",
    "      MAX(d.date) AS week_end_date ,\n",
    "      t.new_cases   ,\n",
    "      t.tests_done  ,\n",
    "      t.population  , \n",
    "      t.testing_rate   ,\n",
    "      t.positivity_rate   ,\n",
    "      t.testing_data_source  \n",
    "FROM testing t JOIN dim_date d ON t.year_week = concat(concat(d.year, '-W'), LPAD(d.week_of_year, 2, '0'))\n",
    "    JOIN dim_country c ON t.country_code = c.country_code_2_digit\n",
    "GROUP BY t.country  ,\n",
    "      c.country_code_2_digit   ,\n",
    "      c.country_code_3_digit   ,\n",
    "      t.year_week   ,\n",
    "      t.new_cases   ,\n",
    "      t.tests_done  ,\n",
    "      t.population  , \n",
    "      t.testing_rate   ,\n",
    "      t.positivity_rate   ,\n",
    "      t.testing_data_source  ;\n",
    "\"\"\")\n",
    "df_proccessed_testing.show()"
   ]
  },
  {
   "cell_type": "code",
   "execution_count": 15,
   "id": "7fb9ceed",
   "metadata": {},
   "outputs": [
    {
     "name": "stdout",
     "output_type": "stream",
     "text": [
      "root\n",
      " |-- country: string (nullable = true)\n",
      " |-- country_code_2_digit: string (nullable = true)\n",
      " |-- country_code_3_digit: string (nullable = true)\n",
      " |-- year_week: string (nullable = true)\n",
      " |-- week_start_date: date (nullable = true)\n",
      " |-- week_end_date: date (nullable = true)\n",
      " |-- new_cases: integer (nullable = true)\n",
      " |-- tests_done: integer (nullable = true)\n",
      " |-- population: integer (nullable = true)\n",
      " |-- testing_rate: double (nullable = true)\n",
      " |-- positivity_rate: double (nullable = true)\n",
      " |-- testing_data_source: string (nullable = true)\n",
      "\n"
     ]
    }
   ],
   "source": [
    "df_proccessed_testing.printSchema()"
   ]
  }
 ],
 "metadata": {
  "kernelspec": {
   "display_name": "Python 3 (ipykernel)",
   "language": "python",
   "name": "python3"
  },
  "language_info": {
   "codemirror_mode": {
    "name": "ipython",
    "version": 3
   },
   "file_extension": ".py",
   "mimetype": "text/x-python",
   "name": "python",
   "nbconvert_exporter": "python",
   "pygments_lexer": "ipython3",
   "version": "3.7.11"
  }
 },
 "nbformat": 4,
 "nbformat_minor": 5
}
